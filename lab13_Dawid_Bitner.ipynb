{
 "cells": [
  {
   "cell_type": "markdown",
   "metadata": {},
   "source": [
    "# Języki skryptowe w analizie danych - język R: webscraping z biblioteką `rvest` \n",
    "###### dr inż. Marcin Lawnik, mgr inż. Arkadiusz Banasik"
   ]
  },
  {
   "cell_type": "markdown",
   "metadata": {},
   "source": [
    "**Wytyczne:**\n",
    "\n",
    "Podobnie jak w przypadku biblioteki `Beautiful Soup` pobierz pracowników  [Katedry Zastosowań Matematyki i Metod Sztucznej Inteligencji](https://ms.polsl.pl/kzmimsi/index.php?id=pracownicy) i wyświetl zestawienie ilości profesorów, doktorów i magistrów. \n",
    "\n",
    "*Wskazówka:* Aby sprawdzić, czy w stringu występuje wzorzec można wykorzystać m.in. [https://www.rdocumentation.org/packages/base/versions/3.6.2/topics/grep](https://www.rdocumentation.org/packages/base/versions/3.6.2/topics/grep)\n",
    "\n",
    "**Uwaga**\n",
    "\n",
    "Na Platformę Zdalnej Edukacji należy wysłać rozwiązanie zadania w postaci *ipynb* i *html*."
   ]
  },
  {
   "cell_type": "code",
   "execution_count": 1,
   "metadata": {},
   "outputs": [
    {
     "name": "stderr",
     "output_type": "stream",
     "text": [
      "Installing package into 'C:/Users/Dawid/Documents/R/win-library/4.0'\n",
      "(as 'lib' is unspecified)\n",
      "\n"
     ]
    },
    {
     "name": "stdout",
     "output_type": "stream",
     "text": [
      "package 'rvest' successfully unpacked and MD5 sums checked\n",
      "\n",
      "The downloaded binary packages are in\n",
      "\tC:\\Users\\Dawid\\AppData\\Local\\Temp\\RtmpINHPSN\\downloaded_packages\n"
     ]
    },
    {
     "name": "stderr",
     "output_type": "stream",
     "text": [
      "Loading required package: xml2\n",
      "\n",
      "Warning message:\n",
      "\"'html' is deprecated.\n",
      "Use 'xml2::read_html' instead.\n",
      "See help(\"Deprecated\")\"\n"
     ]
    },
    {
     "data": {
      "text/plain": [
       "{html_document}\n",
       "<html lang=\"pl\">\n",
       "[1] <head>\\n<meta http-equiv=\"Content-Type\" content=\"text/html; charset=UTF-8 ...\n",
       "[2] <body>\\r\\n\\t<header><section><div class=\"container-fluid\">\\r\\n\\t\\t\\t\\t<di ..."
      ]
     },
     "metadata": {},
     "output_type": "display_data"
    }
   ],
   "source": [
    "install.packages(\"rvest\")\n",
    "library(rvest)\n",
    "ms <- html(\"https://ms.polsl.pl/kzmimsi/index.php?id=pracownicy\")\n",
    "ms"
   ]
  },
  {
   "cell_type": "code",
   "execution_count": 12,
   "metadata": {},
   "outputs": [
    {
     "data": {
      "image/png": "[encoded data removed]",
      "text/plain": [
       "plot without title"
      ]
     },
     "metadata": {
      "image/png": {
       "height": 420,
       "width": 420
      },
      "text/plain": {
       "height": 420,
       "width": 420
      }
     },
     "output_type": "display_data"
    }
   ],
   "source": [
    "prof = 0\n",
    "dr = 0\n",
    "mgr = 0\n",
    "\n",
    "for( prac in ms %>% html_nodes(\".content a .pracownik strong\") %>% html_text()){\n",
    "    if(grepl('prof', prac, fixed = TRUE)){ \n",
    "        prof = prof + 1 \n",
    "    }\n",
    "    else if(grepl('dr', prac, fixed = TRUE)){ \n",
    "        dr = dr + 1 \n",
    "    }\n",
    "    else if(grepl('mgr', prac, fixed = TRUE)){  \n",
    "        mgr = mgr + 1 \n",
    "    }\n",
    "}\n",
    "plot = c(mgr, dr, prof)\n",
    "labels = c(\"Magistrzy\", \"Doktorzy\", \"Profesorowie\")\n",
    "barplot(plot, names.arg=labels)"
   ]
  },
  {
   "cell_type": "code",
   "execution_count": null,
   "metadata": {},
   "outputs": [],
   "source": []
  }
 ],
 "metadata": {
  "kernelspec": {
   "display_name": "R",
   "language": "R",
   "name": "ir"
  },
  "language_info": {
   "codemirror_mode": "r",
   "file_extension": ".r",
   "mimetype": "text/x-r-source",
   "name": "R",
   "pygments_lexer": "r",
   "version": "4.0.0"
  }
 },
 "nbformat": 4,
 "nbformat_minor": 4
}
