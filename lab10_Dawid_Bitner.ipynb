{
 "cells": [
  {
   "cell_type": "markdown",
   "metadata": {},
   "source": [
    "# Języki skryptowe w analizie danych - grafika w `R`\n",
    "###### dr inż. Marcin Lawnik, mgr inż. Arkadiusz Banasik"
   ]
  },
  {
   "cell_type": "markdown",
   "metadata": {},
   "source": [
    "### Wytyczne\n",
    "1. Jedną z metod próbkowania jest metoda odwracania dystrybuanty\n",
    "(np. [https://pl.wikipedia.org/wiki/Odwrotna_dystrybuanta](https://pl.wikipedia.org/wiki/Odwrotna_dystrybuanta)). \n",
    "Metoda ta nie nadaję się dla rozkładów, dla których dla dystrybunty nie można określić funkcji odwrotnej. Przykładem takiego rozkładu jest rozkład normalny. Z kolei można przybliżyć dystrybunatę rozkładu $N(0,1)$ poprzez inną funkcję i wtedy zastosować wyżej wspomnianą metodę. Jedną z najprostszych aproksymacji dystrybuanty rozkładu $N(0,1)$ jest funkcja:\n",
    "$$\n",
    "\\Phi_{a} (x) = \\frac{e^{2kx}}{1+e^{2kx}},\n",
    "$$\n",
    "gdzie $k = \\sqrt{\\frac{2}{\\pi}}$.\n",
    "\n",
    " **Zadanie**\n",
    "\n",
    " Za pomocą wspomnianej metody i aproksymacji uzyskaj $10^5$ próbek z rozkładu $N(0,1)$ i porównaj   je z próbkami uzyskanaymi za pomocą funkcji `rnorm` języka R.\n",
    "\n",
    " W tym celu należy:\n",
    " 1. Znaleźć funkcję odwrotną do $\\Phi_{a}$\n",
    " 1. Uzyskać próbkę z rozkładu $U(0,1)$ (rozkład jednostajny na przedziale (0,1)) za pomocą funkcji `runif` języka R\n",
    " 1. Podziałać na uzyskanej próbce funkcją odwrotną\n",
    " 1. Pokazać histogram dla wyniku z kroku 3 i funkcji `rnorm`\n",
    "\n",
    "2. Stwórz grafikę, której wynikiem jest aproksymacja wartości $\\pi$. Aproksymację taką można uzyskać za pomocą metody Monte Carlo (np. [https://pl.wikipedia.org/wiki/Metoda_Monte_Carlo](https://pl.wikipedia.org/wiki/Metoda_Monte_Carlo)). \n",
    "\n",
    " W tym celu:\n",
    " 1. wylosuj $10^4$ wartości pseudolosowych $x$ i $y$, dla których:\n",
    "  + jeśli należą do koła jednostkowego, tj. spełniają warunek $x^2+y^2 \\le 1$, to umiesć wartości $x$ i $y$ w odpowiednich wektorach `wx` i `wy`\n",
    "  + jesli nie należą do koła jednostkowego, to umieść je w wektorach `px` i `py`\n",
    " 1. otrzymane pary wektorów `wx` i `wy` oraz `px` i `py` wyplotuj aby uzyskać grafikę \n",
    " ![](pi.png)\n",
    " \n",
    " *Wskazówki* \n",
    " 1. Wartość `a` do pustego wektora `x = c()` można dodać w następujący sposób: `x[length(x)+1] = a`. \n",
    " 1. Funkcja może zwrócić wiele wyrażeń jeśli umieścimy je w liście. Dla przykładu jeśli chcemy zwrócić 2 wektory `x` i `y`, to możemy stworzyć listę `wynik = list(\"x\" = w, \"y\" = y)` i ją zwrócić poprzez `return(wynik)`. Odwołanie do wyników poza funkcją może wyglądać następująco:\n",
    " ```\n",
    " wynik = funkcja()\n",
    " x = wynik$x\n",
    " y = wynik$y\n",
    " ```\n",
    "\n",
    "**Uwaga**\n",
    "\n",
    "Na Platformę Zdalnej Edukacji należy wysłać rozwiązanie co najmniej 1. zadania w postaci *ipynb* i *html*."
   ]
  },
  {
   "cell_type": "markdown",
   "metadata": {},
   "source": [
    "# Zadanie 2"
   ]
  },
  {
   "cell_type": "code",
   "execution_count": 2,
   "metadata": {},
   "outputs": [
    {
     "data": {
      "text/html": [
       "78551"
      ],
      "text/latex": [
       "78551"
      ],
      "text/markdown": [
       "78551"
      ],
      "text/plain": [
       "[1] 78551"
      ]
     },
     "metadata": {},
     "output_type": "display_data"
    },
    {
     "data": {
      "text/html": [
       "78551"
      ],
      "text/latex": [
       "78551"
      ],
      "text/markdown": [
       "78551"
      ],
      "text/plain": [
       "[1] 78551"
      ]
     },
     "metadata": {},
     "output_type": "display_data"
    },
    {
     "data": {
      "text/html": [
       "21449"
      ],
      "text/latex": [
       "21449"
      ],
      "text/markdown": [
       "21449"
      ],
      "text/plain": [
       "[1] 21449"
      ]
     },
     "metadata": {},
     "output_type": "display_data"
    },
    {
     "data": {
      "text/html": [
       "21449"
      ],
      "text/latex": [
       "21449"
      ],
      "text/markdown": [
       "21449"
      ],
      "text/plain": [
       "[1] 21449"
      ]
     },
     "metadata": {},
     "output_type": "display_data"
    },
    {
     "name": "stdout",
     "output_type": "stream",
     "text": [
      "[1] 3.662222\n"
     ]
    },
    {
     "data": {
      "image/png": "[encoded data removed]",
      "text/plain": [
       "plot without title"
      ]
     },
     "metadata": {
      "image/png": {
       "height": 420,
       "width": 420
      },
      "text/plain": {
       "height": 420,
       "width": 420
      }
     },
     "output_type": "display_data"
    }
   ],
   "source": [
    "x = runif(10^5, min=-1, max=1)\n",
    "y = runif(10^5, min=-1, max=1)\n",
    "wx = c()\n",
    "wy = c()\n",
    "px = c()\n",
    "py = c()\n",
    "df = data.frame(x=x, y=y)\n",
    "for(row in 1:nrow(df)){\n",
    "    if(df[row, \"x\"]^2 + df[row, \"y\"]^2 <= 1){\n",
    "        wx = append(wx, df[row, \"x\"])\n",
    "        wy = append(wy, df[row, \"y\"])\n",
    "    }\n",
    "    else{\n",
    "        px = append(px, df[row, \"x\"])\n",
    "        py = append(py, df[row, \"y\"])\n",
    "    }\n",
    "}\n",
    "length(wx)\n",
    "length(wy)\n",
    "length(px)\n",
    "length(py)\n",
    "\n",
    "plot(wx, wy, col=\"green\")\n",
    "print(length(wx) / length(px))"
   ]
  }
 ],
 "metadata": {
  "kernelspec": {
   "display_name": "R",
   "language": "R",
   "name": "ir"
  },
  "language_info": {
   "codemirror_mode": "r",
   "file_extension": ".r",
   "mimetype": "text/x-r-source",
   "name": "R",
   "pygments_lexer": "r",
   "version": "4.0.0"
  }
 },
 "nbformat": 4,
 "nbformat_minor": 4
}
