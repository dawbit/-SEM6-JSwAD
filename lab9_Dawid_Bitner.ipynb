{
 "cells": [
  {
   "cell_type": "markdown",
   "metadata": {},
   "source": [
    "# Języki skryptowe w analizie danych - podstawy języka `R`\n",
    "###### dr inż. Marcin Lawnik, mgr inż. Arkadiusz Banasik"
   ]
  },
  {
   "cell_type": "markdown",
   "metadata": {},
   "source": [
    "### Wytyczne\n",
    "Napisz funkcję, która\n",
    "1. doda do siebie dwie liczby\n",
    "1. policzy średnią wektora (bez gotowych metod)\n",
    "1. sprawdzi, czy liczba 1234567 jest pierwsza\n",
    "1. sprawdzi, czy podane dwa wektory są równe\n",
    "1. sprawdzi, czy wektor jest palindromem\n",
    "1. zwróci najmniejszą i największą wartość w wektorze liczb (bez gotowych metod)\n",
    "1. zwróci unikalne wartości wektora (bez gotowych metod)\n",
    "\n",
    "\n",
    "**Uwaga**\n",
    "\n",
    "Na Platformę Zdalnej Edukacji należy wysłać rozwiązanie co najmniej 4 zadania. Wysyłamy pliki *ipynb* i *html*."
   ]
  },
  {
   "cell_type": "markdown",
   "metadata": {},
   "source": [
    "### 1"
   ]
  },
  {
   "cell_type": "code",
   "execution_count": 1,
   "metadata": {},
   "outputs": [
    {
     "data": {
      "text/html": [
       "11"
      ],
      "text/latex": [
       "11"
      ],
      "text/markdown": [
       "11"
      ],
      "text/plain": [
       "[1] 11"
      ]
     },
     "metadata": {},
     "output_type": "display_data"
    }
   ],
   "source": [
    "sum = function(x, y){ return(x + y) }\n",
    "sum(4, 7)"
   ]
  },
  {
   "cell_type": "markdown",
   "metadata": {},
   "source": [
    "### 2"
   ]
  },
  {
   "cell_type": "code",
   "execution_count": 2,
   "metadata": {},
   "outputs": [
    {
     "data": {
      "text/html": [
       "12"
      ],
      "text/latex": [
       "12"
      ],
      "text/markdown": [
       "12"
      ],
      "text/plain": [
       "[1] 12"
      ]
     },
     "metadata": {},
     "output_type": "display_data"
    }
   ],
   "source": [
    "avg_vector = function(vector){\n",
    "    s = 0\n",
    "    l = 0\n",
    "    for(el in vector){\n",
    "        s = s + el\n",
    "        l = l + 1\n",
    "    }\n",
    "    return(s / l )\n",
    "}\n",
    "avg_vector(c(1, 11, 24))"
   ]
  },
  {
   "cell_type": "markdown",
   "metadata": {},
   "source": [
    "### 3"
   ]
  },
  {
   "cell_type": "code",
   "execution_count": 3,
   "metadata": {},
   "outputs": [
    {
     "data": {
      "text/html": [
       "'Nie'"
      ],
      "text/latex": [
       "'Nie'"
      ],
      "text/markdown": [
       "'Nie'"
      ],
      "text/plain": [
       "[1] \"Nie\""
      ]
     },
     "metadata": {},
     "output_type": "display_data"
    },
    {
     "data": {
      "text/html": [
       "'Nie'"
      ],
      "text/latex": [
       "'Nie'"
      ],
      "text/markdown": [
       "'Nie'"
      ],
      "text/plain": [
       "[1] \"Nie\""
      ]
     },
     "metadata": {},
     "output_type": "display_data"
    },
    {
     "data": {
      "text/html": [
       "'Jest'"
      ],
      "text/latex": [
       "'Jest'"
      ],
      "text/markdown": [
       "'Jest'"
      ],
      "text/plain": [
       "[1] \"Jest\""
      ]
     },
     "metadata": {},
     "output_type": "display_data"
    }
   ],
   "source": [
    "prime = function(liczba){\n",
    "    if(liczba %% 2 == 0){ \n",
    "        return(\"Nie\")\n",
    "    }\n",
    "    xs = c(3:sqrt(liczba))\n",
    "    for(x in xs){\n",
    "        if(x %% 2 == 1 && liczba %% x == 0){\n",
    "            return(\"Nie\")\n",
    "        }\n",
    "    }\n",
    "    return(\"Jest\")\n",
    "}\n",
    "prime(1)\n",
    "prime(12)\n",
    "prime(19)"
   ]
  },
  {
   "cell_type": "markdown",
   "metadata": {},
   "source": [
    "### 4"
   ]
  },
  {
   "cell_type": "code",
   "execution_count": 4,
   "metadata": {},
   "outputs": [
    {
     "data": {
      "text/html": [
       "'Równe'"
      ],
      "text/latex": [
       "'Równe'"
      ],
      "text/markdown": [
       "'Równe'"
      ],
      "text/plain": [
       "[1] \"Równe\""
      ]
     },
     "metadata": {},
     "output_type": "display_data"
    },
    {
     "data": {
      "text/html": [
       "'Nie'"
      ],
      "text/latex": [
       "'Nie'"
      ],
      "text/markdown": [
       "'Nie'"
      ],
      "text/plain": [
       "[1] \"Nie\""
      ]
     },
     "metadata": {},
     "output_type": "display_data"
    }
   ],
   "source": [
    "czy_c_rowne = function(a, b){\n",
    "    if(all(a == b)){\n",
    "        return(\"Równe\")\n",
    "    }\n",
    "    return(\"Nie\")\n",
    "}\n",
    "\n",
    "czy_c_rowne(c(1, 2, 3), c(1, 2, 3))\n",
    "czy_c_rowne(c(1, 2, 7), c(1, 5, 2))"
   ]
  },
  {
   "cell_type": "markdown",
   "metadata": {},
   "source": [
    "### 5"
   ]
  },
  {
   "cell_type": "code",
   "execution_count": 5,
   "metadata": {},
   "outputs": [
    {
     "data": {
      "text/html": [
       "'Nie jest'"
      ],
      "text/latex": [
       "'Nie jest'"
      ],
      "text/markdown": [
       "'Nie jest'"
      ],
      "text/plain": [
       "[1] \"Nie jest\""
      ]
     },
     "metadata": {},
     "output_type": "display_data"
    },
    {
     "data": {
      "text/html": [
       "'Jest'"
      ],
      "text/latex": [
       "'Jest'"
      ],
      "text/markdown": [
       "'Jest'"
      ],
      "text/plain": [
       "[1] \"Jest\""
      ]
     },
     "metadata": {},
     "output_type": "display_data"
    }
   ],
   "source": [
    "palindrom = function(wektor){\n",
    "    if(all(wektor == rev(wektor))){\n",
    "        return(\"Jest\")\n",
    "    }\n",
    "    return(\"Nie jest\")\n",
    "}\n",
    "\n",
    "palindrom(c(1, 2, 3, 99))\n",
    "palindrom(c(81, 1, 1, 81))"
   ]
  },
  {
   "cell_type": "markdown",
   "metadata": {},
   "source": [
    "### 6"
   ]
  },
  {
   "cell_type": "code",
   "execution_count": 6,
   "metadata": {},
   "outputs": [
    {
     "data": {
      "text/html": [
       "'(1, 6)'"
      ],
      "text/latex": [
       "'(1, 6)'"
      ],
      "text/markdown": [
       "'(1, 6)'"
      ],
      "text/plain": [
       "[1] \"(1, 6)\""
      ]
     },
     "metadata": {},
     "output_type": "display_data"
    },
    {
     "data": {
      "text/html": [
       "'(-1, 6)'"
      ],
      "text/latex": [
       "'(-1, 6)'"
      ],
      "text/markdown": [
       "'(-1, 6)'"
      ],
      "text/plain": [
       "[1] \"(-1, 6)\""
      ]
     },
     "metadata": {},
     "output_type": "display_data"
    },
    {
     "data": {
      "text/html": [
       "'(-6, 5)'"
      ],
      "text/latex": [
       "'(-6, 5)'"
      ],
      "text/markdown": [
       "'(-6, 5)'"
      ],
      "text/plain": [
       "[1] \"(-6, 5)\""
      ]
     },
     "metadata": {},
     "output_type": "display_data"
    },
    {
     "data": {
      "text/html": [
       "'(-5, 6)'"
      ],
      "text/latex": [
       "'(-5, 6)'"
      ],
      "text/markdown": [
       "'(-5, 6)'"
      ],
      "text/plain": [
       "[1] \"(-5, 6)\""
      ]
     },
     "metadata": {},
     "output_type": "display_data"
    },
    {
     "data": {
      "text/html": [
       "'(-4, 6)'"
      ],
      "text/latex": [
       "'(-4, 6)'"
      ],
      "text/markdown": [
       "'(-4, 6)'"
      ],
      "text/plain": [
       "[1] \"(-4, 6)\""
      ]
     },
     "metadata": {},
     "output_type": "display_data"
    }
   ],
   "source": [
    "min_max = function(wektor){\n",
    "    min = wektor[1]\n",
    "    max = wektor[1]\n",
    "    for(w in wektor){\n",
    "        if(w > max){ max = w}\n",
    "        if(w < min){ min = w}\n",
    "    }\n",
    "    \n",
    "    return(sprintf(\"(%d, %d)\", min, max))\n",
    "}\n",
    "min_max(c(1, 6, 5, 4))\n",
    "min_max(c(-1, 6, 5, 4))\n",
    "min_max(c(1, -6, 5, 4))\n",
    "min_max(c(1, 6, -5, 4))\n",
    "min_max(c(1, 6, 5, -4))"
   ]
  },
  {
   "cell_type": "markdown",
   "metadata": {},
   "source": [
    "### 7"
   ]
  },
  {
   "cell_type": "code",
   "execution_count": 7,
   "metadata": {},
   "outputs": [
    {
     "data": {
      "text/html": [
       "<style>\n",
       ".list-inline {list-style: none; margin:0; padding: 0}\n",
       ".list-inline>li {display: inline-block}\n",
       ".list-inline>li:not(:last-child)::after {content: \"\\00b7\"; padding: 0 .5ex}\n",
       "</style>\n",
       "<ol class=list-inline><li>1</li><li>2</li><li>3</li><li>4</li><li>5</li><li>6</li></ol>\n"
      ],
      "text/latex": [
       "\\begin{enumerate*}\n",
       "\\item 1\n",
       "\\item 2\n",
       "\\item 3\n",
       "\\item 4\n",
       "\\item 5\n",
       "\\item 6\n",
       "\\end{enumerate*}\n"
      ],
      "text/markdown": [
       "1. 1\n",
       "2. 2\n",
       "3. 3\n",
       "4. 4\n",
       "5. 5\n",
       "6. 6\n",
       "\n",
       "\n"
      ],
      "text/plain": [
       "[1] 1 2 3 4 5 6"
      ]
     },
     "metadata": {},
     "output_type": "display_data"
    },
    {
     "data": {
      "text/html": [
       "<style>\n",
       ".list-inline {list-style: none; margin:0; padding: 0}\n",
       ".list-inline>li {display: inline-block}\n",
       ".list-inline>li:not(:last-child)::after {content: \"\\00b7\"; padding: 0 .5ex}\n",
       "</style>\n",
       "<ol class=list-inline><li>1</li><li>2</li><li>3</li></ol>\n"
      ],
      "text/latex": [
       "\\begin{enumerate*}\n",
       "\\item 1\n",
       "\\item 2\n",
       "\\item 3\n",
       "\\end{enumerate*}\n"
      ],
      "text/markdown": [
       "1. 1\n",
       "2. 2\n",
       "3. 3\n",
       "\n",
       "\n"
      ],
      "text/plain": [
       "[1] 1 2 3"
      ]
     },
     "metadata": {},
     "output_type": "display_data"
    },
    {
     "data": {
      "text/html": [
       "1"
      ],
      "text/latex": [
       "1"
      ],
      "text/markdown": [
       "1"
      ],
      "text/plain": [
       "[1] 1"
      ]
     },
     "metadata": {},
     "output_type": "display_data"
    }
   ],
   "source": [
    "unikalne = function(wektor){\n",
    "    un = c()\n",
    "    for(w in wektor){   \n",
    "        if(!(w %in% un)){\n",
    "            un = append(un, w)\n",
    "        }\n",
    "    }\n",
    "    return(un)\n",
    "}\n",
    "unikalne(c(1, 2, 3, 4, 5, 6))\n",
    "unikalne(c(1, 2, 3, 1, 2, 3))\n",
    "unikalne(c(1, 1, 1, 1, 1, 1))"
   ]
  }
 ],
 "metadata": {
  "kernelspec": {
   "display_name": "R",
   "language": "R",
   "name": "ir"
  },
  "language_info": {
   "codemirror_mode": "r",
   "file_extension": ".r",
   "mimetype": "text/x-r-source",
   "name": "R",
   "pygments_lexer": "r",
   "version": "4.0.0"
  }
 },
 "nbformat": 4,
 "nbformat_minor": 4
}
