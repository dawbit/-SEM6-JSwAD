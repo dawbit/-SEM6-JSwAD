{
 "cells": [
  {
   "cell_type": "markdown",
   "metadata": {
    "slideshow": {
     "slide_type": "slide"
    }
   },
   "source": [
    "# Języki skryptowe w analizie danych: pakiet `Numpy`\n",
    "###### dr inż. Marcin Lawnik, mgr inż. Arkadiusz Banasik"
   ]
  },
  {
   "cell_type": "markdown",
   "metadata": {
    "slideshow": {
     "slide_type": "slide"
    }
   },
   "source": [
    "### Wytyczne\n",
    "\n",
    "1. Za pomocą funkcji `%timeit` ([https://ipython.readthedocs.io/en/stable/interactive/magics.html](https://ipython.readthedocs.io/en/stable/interactive/magics.html)) sprawdź, która z procedur jest szybsza:\n",
    " + lista z sinusami, których argumentami są kolejne liczby całkowite (w zakresie 0 - $10^6$) stworzona za pomocą funkcji `math.sin` i `np.sin`\n",
    " + lista z wartościami `[0...10**6] + 1` stworzona za pomocą wyrażenia listowego i z użyciem biblioteki `numpy`\n",
    "1. Z tablicy o rozmiarze 10x10, której elementy to kolejne liczby naturalne wybierz elementy, które są podzielne przez 2 i nie są podzielne przez 3. Rozwiązanie uzyskaj za pomocą maskowania.\n",
    "1. Napisz funkcję, która wygeneruje macierz o losowych elementach (liczby całkowite z zadanego zakresu) o zadanej z góry wartości wyznacznika.\n",
    "\n",
    "**Uwaga**\n",
    "\n",
    "Na Platformę Zdalnej Edukacji należy wysłać rozwiązanie co najmniej 1 zadania. Wysyłamy pliki *ipynb* i *html*."
   ]
  },
  {
   "cell_type": "code",
   "execution_count": 1,
   "metadata": {},
   "outputs": [
    {
     "name": "stdout",
     "output_type": "stream",
     "text": [
      "5.8560942  -  34.3340845\n",
      "16.609015399999997  -  0.40624030000000033\n"
     ]
    }
   ],
   "source": [
    "import timeit\n",
    "import numpy as np\n",
    "\n",
    "\n",
    "math = \"import math\"\n",
    "codemath = '''\n",
    "[math.sin(n) for n in range(10**6)]\n",
    "'''\n",
    "numpy = \"import numpy as np\"\n",
    "codenumpy = '''\n",
    "[np.sin(n) for n in range(10**6)]\n",
    "'''\n",
    "print(timeit.timeit(setup=math, stmt=codemath, number=10), \" - \", timeit.timeit(setup=numpy, stmt=codenumpy, number=10))\n",
    "\n",
    "math = '''\n",
    "[n for n in range(10**6+1)]\n",
    "'''\n",
    "\n",
    "numpy = \"import numpy as np\"\n",
    "codenumpy = '''\n",
    "np.arange(10**6+1)\n",
    "'''\n",
    "print(timeit.timeit(stmt=math, number=100), \" - \", timeit.timeit(setup=numpy, stmt=codenumpy, number=100))"
   ]
  },
  {
   "cell_type": "code",
   "execution_count": 2,
   "metadata": {},
   "outputs": [
    {
     "data": {
      "text/plain": [
       "array([  2,   4,   8,  10,  14,  16,  20,  22,  26,  28,  32,  34,  38,\n",
       "        40,  44,  46,  50,  52,  56,  58,  62,  64,  68,  70,  74,  76,\n",
       "        80,  82,  86,  88,  92,  94,  98, 100])"
      ]
     },
     "execution_count": 2,
     "metadata": {},
     "output_type": "execute_result"
    }
   ],
   "source": [
    "import numpy as np\n",
    "\n",
    "T = np.arange(1, 101).reshape(10, 10)\n",
    "condition = (np.mod(T, 2) == 0) & (np.mod(T, 3) != 0) # maskowanie\n",
    "T[condition]"
   ]
  },
  {
   "cell_type": "code",
   "execution_count": 3,
   "metadata": {},
   "outputs": [
    {
     "data": {
      "text/plain": [
       "array([[3, 3],\n",
       "       [5, 6]])"
      ]
     },
     "execution_count": 3,
     "metadata": {},
     "output_type": "execute_result"
    }
   ],
   "source": [
    "def matrix(start, stop, _det):\n",
    "    T = np.random.randint(start, stop, size=(2, 2))\n",
    "    while True:\n",
    "        det = np.linalg.det(T)\n",
    "        if np.absolute(det - _det) < .01:\n",
    "            return T\n",
    "        T = np.random.randint(start, stop, size=(2, 2))\n",
    "    \n",
    "    \n",
    "matrix(1, 8, 3)"
   ]
  }
 ],
 "metadata": {
  "kernelspec": {
   "display_name": "Python 3",
   "language": "python",
   "name": "python3"
  },
  "language_info": {
   "codemirror_mode": {
    "name": "ipython",
    "version": 3
   },
   "file_extension": ".py",
   "mimetype": "text/x-python",
   "name": "python",
   "nbconvert_exporter": "python",
   "pygments_lexer": "ipython3",
   "version": "3.7.6"
  }
 },
 "nbformat": 4,
 "nbformat_minor": 2
}
