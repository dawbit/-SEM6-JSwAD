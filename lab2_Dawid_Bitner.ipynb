{
 "cells": [
  {
   "cell_type": "markdown",
   "metadata": {},
   "source": [
    "# Języki skryptowe w analizie danych - podstawy programowania obiektowego \n",
    "###### dr inż. Marcin Lawnik, mgr inż. Arkadiusz Banasik"
   ]
  },
  {
   "cell_type": "markdown",
   "metadata": {},
   "source": [
    "### Wytyczne:\n",
    "1. Napisz klasę `Konto`, która będzie zawierać pola:\n",
    "    + `wlasciciel` - własciciel konta, string\n",
    "    + `nr_konta` - numer konta, string\n",
    "    + `saldo` - saldo początkowe konta\n",
    "    + `kredyt` - wzięty kredyt\n",
    "    + `lokata` - założona lokata\n",
    "2. Dodaj metody:\n",
    "    + `zaloz_lokata` - przerzuca środki z `saldo` na `lokata`\n",
    "    + `wez_kredyt` - zwiększamy `saldo`o daną kwotę\n",
    "    + `przelew` - przelewamy środki na inne konto\n",
    "    + `__str__` - pełne informacje o koncie\n",
    "    + przetestuj \n",
    "3. Napisz klasę Konto_VIP, które:\n",
    "    + rozszerza klasę `Konto`\n",
    "    + ma nowe pole `historia` - historia wykonanych wszystkich operacji na koncie\n",
    "    + ma nową metodę `historia_konta` - drukuje zawartość historii\n",
    "    + przeciąż niektóre, potrzebne metody\n",
    "    + przetestuj\n",
    "    \n",
    "**Uwaga**\n",
    "\n",
    "Na Platformę Zdalnej Edukacji należe przesłać rozwiązania powyższych zadań. Wysyłamy wersję *ipynb* i *html*."
   ]
  },
  {
   "cell_type": "code",
   "execution_count": 1,
   "metadata": {
    "scrolled": true
   },
   "outputs": [
    {
     "name": "stdout",
     "output_type": "stream",
     "text": [
      "Wlascicel: Dawid B\n",
      "Nr konta:  97060200000\n",
      "Saldo: 10000000\n",
      "Kredyt: 0\n",
      "Lokata: 2000\n",
      "Wlascicel: Dawid B\n",
      "Nr konta:  97060200000\n",
      "Saldo: 0\n",
      "Kredyt: 0\n",
      "Lokata: 10002000\n",
      "Wlascicel: Dawid B\n",
      "Nr konta:  97060200000\n",
      "Saldo: 3000\n",
      "Kredyt: 3000\n",
      "Lokata: 10002000\n"
     ]
    }
   ],
   "source": [
    "class Konto:\n",
    "    def __init__(self, wlasciciel, nr_konta, saldo, kredyt, lokata):\n",
    "        self.wlasciciel = wlasciciel\n",
    "        self.nr_konta = nr_konta\n",
    "        self.saldo = saldo\n",
    "        self.kredyt = kredyt\n",
    "        self.lokata = lokata\n",
    "    \n",
    "    def zaloz_lokata(self):\n",
    "        self.lokata += self.saldo\n",
    "        self.saldo = 0\n",
    "    \n",
    "    def wez_kredyt(self, kwota):\n",
    "        self.kredyt += kwota\n",
    "        self.saldo += kwota\n",
    "    \n",
    "    def przelew(self, konto, kwota):\n",
    "        if kwota > self.saldo:\n",
    "            return\n",
    "        if isinstance(konto, Konto):\n",
    "            konto.saldo += kwota\n",
    "            self.saldo -= kwota\n",
    "            \n",
    "    def __str__(self):\n",
    "        return \"Wlascicel: \" + self.wlasciciel + \"\\n\" + \"Nr konta:  \" + self.nr_konta + \"\\n\" + \"Saldo: \" + str(self.saldo) + \"\\n\" + \"Kredyt: \" + str(self.kredyt) + \"\\n\" + \"Lokata: \" + str(self.lokata)\n",
    "                \n",
    "klient1 = Konto(\"Dawid B\", \"97060200000\", 10000000, 0, 2000)\n",
    "print(klient1)\n",
    "klient1.zaloz_lokata()\n",
    "print(klient1)\n",
    "klient1.wez_kredyt(3000)\n",
    "print(klient1)\n"
   ]
  },
  {
   "cell_type": "code",
   "execution_count": 2,
   "metadata": {},
   "outputs": [
    {
     "name": "stdout",
     "output_type": "stream",
     "text": [
      "Operacja: Lokata\tWartosc: 3000\n",
      "Operacja: Kredyt\tWartosc: 500\n",
      "Operacja: Lokata\tWartosc: 3000\n",
      "Operacja: Kredyt\tWartosc: 500\n",
      "Operacja: Przelew: \tWartosc: 420\n"
     ]
    }
   ],
   "source": [
    "from collections import namedtuple\n",
    "\n",
    "Operacja = namedtuple(\"Operacja\", [\"Typ\", \"Wartosc\"])\n",
    "\n",
    "class Konto_VIP(Konto):\n",
    "    def __init__(self, wlasciciel, nr_konta, saldo, kredyt, lokata):\n",
    "        super().__init__(wlasciciel, nr_konta, saldo, kredyt, lokata)\n",
    "        self.historia = list()\n",
    "            \n",
    "    def zaloz_lokata(self):\n",
    "        self.historia.append(Operacja(\"Lokata\", self.saldo))\n",
    "        super().zaloz_lokata()\n",
    "    \n",
    "    def wez_kredyt(self, kwota):\n",
    "        self.historia.append(Operacja(\"Kredyt\", kwota))\n",
    "        super().wez_kredyt(kwota)\n",
    "        \n",
    "    def przelew(self, konto, kwota):\n",
    "        if kwota > self.saldo:\n",
    "            return\n",
    "        else:\n",
    "            self.historia.append(Operacja(\"Przelew: \" , kwota))\n",
    "        super().przelew(konto, kwota)\n",
    "\n",
    "    def historia_konta(self):\n",
    "        for wpis in self.historia:\n",
    "            print(\"Operacja: \" + wpis.Typ + \"\\tWartosc: \" + str(wpis.Wartosc))        \n",
    "            \n",
    "    def __str__(self):\n",
    "        return \"Wlascicel: \" + self.wlasciciel + \"\\n\\t\" + \"Nr konta:  \" + self.nr_konta + \"\\n\" + \"Saldo: \" + str(self.saldo) + \"\\n\" + \"Kredyt: \" + str(self.kredyt) + \"\\n\" + \"Lokata: \" + str(self.lokata)\n",
    "    \n",
    "vip = Konto_VIP(\"Dawid B\", \"97060200000\", 3000, 0, 200)\n",
    "vip.zaloz_lokata()\n",
    "vip.wez_kredyt(500)\n",
    "vip.historia_konta()\n",
    "vip2 = Konto(\"XX YY\", \"00000000000\", 3000, 100, 500)\n",
    "vip.przelew(vip2, 420)\n",
    "vip.historia_konta()"
   ]
  },
  {
   "cell_type": "code",
   "execution_count": null,
   "metadata": {},
   "outputs": [],
   "source": []
  }
 ],
 "metadata": {
  "kernelspec": {
   "display_name": "Python 3",
   "language": "python",
   "name": "python3"
  },
  "language_info": {
   "codemirror_mode": {
    "name": "ipython",
    "version": 3
   },
   "file_extension": ".py",
   "mimetype": "text/x-python",
   "name": "python",
   "nbconvert_exporter": "python",
   "pygments_lexer": "ipython3",
   "version": "3.7.6"
  }
 },
 "nbformat": 4,
 "nbformat_minor": 2
}
