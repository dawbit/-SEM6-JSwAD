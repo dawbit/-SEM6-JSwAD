{
 "cells": [
  {
   "cell_type": "markdown",
   "metadata": {},
   "source": [
    "# Języki skryptowe w analizie danych - podstawy języka Python\n",
    "###### dr inż. Marcin Lawnik, mgr inż. Arkadiusz Banasik"
   ]
  },
  {
   "cell_type": "markdown",
   "metadata": {},
   "source": [
    "### Wytyczne\n",
    "\n",
    "1. Sprawdź, czy liczba 1234567 jest pierwsza\n",
    "2. Znajdź rozkład liczby 123456 na dzielniki pierwsze\n",
    "3. Znajdź dzielniki liczby 123456\n",
    "4. Znajdź najmniejszą wspólna wielokrotność liczb 123 i 456\n",
    "5. Przedstaw liczbę 123456 w postaci binarnej\n",
    "6. Napisz funkcję, która dla danego $n$ obliczy $n!$\n",
    "1. Napisz funkcję, która dla danego $n$ oblicza ciąg Collatza\n",
    "7. Napisz funkcję, która oblicza `n`-tą liczbę Fibonacciego (`n` duże)\n",
    "8. Napisz funkcję, która dla dowolnej ilości argumentów liczbowych zwróci ich średnią arytmetyczną \n",
    "9. Napisz funkcję, która przybliża wartość $\\pi$ (metoda Monte-Carlo)\n",
    "1. Napisz funkcję, która podany łańcuch znaków podzieli względem spacji na podłańcuchy i zamieni wielkość liter na małe\n",
    "1. Napisz funkcję, która zliczy ilość wystąpien znaków w stringu\n",
    "1. Napisz funkcję, która zamieni łańcuch znaków na format notacji wielbłądziej\n",
    "1. Napisz funkcję, która dla zadanych współczynników trójmianu kwadratowego znajdzie rozwiązanie"
   ]
  },
  {
   "cell_type": "markdown",
   "metadata": {},
   "source": [
    "# Zad 1"
   ]
  },
  {
   "cell_type": "code",
   "execution_count": 1,
   "metadata": {},
   "outputs": [],
   "source": [
    "import math\n",
    "\n",
    "def prime(number):\n",
    "    for i in range(2, math.floor(number/2) + 1):\n",
    "        if number % i == 0:\n",
    "            return False\n",
    "    return True\n",
    "\n",
    "prime(1234567)"
   ]
  },
  {
   "cell_type": "markdown",
   "metadata": {},
   "source": [
    "# Zad 2"
   ]
  },
  {
   "cell_type": "code",
   "execution_count": 2,
   "metadata": {},
   "outputs": [
    {
     "data": {
      "text/plain": [
       "{2: 6, 3: 1, 643: 1}"
      ]
     },
     "execution_count": 2,
     "metadata": {},
     "output_type": "execute_result"
    }
   ],
   "source": [
    "def degrade_prime(number):\n",
    "    primes = dict()\n",
    "    i = 2\n",
    "    while i < number / 2:\n",
    "        if prime(i):\n",
    "            while number % i == 0:\n",
    "                if i not in primes:\n",
    "                    primes[i] = 0\n",
    "                primes[i] += 1\n",
    "                number = int(number / i)\n",
    "                if prime(number):\n",
    "                    if number not in primes:\n",
    "                        primes[number] = 0\n",
    "                    primes[number] += 1\n",
    "        i+=1\n",
    "    return primes\n",
    "\n",
    "degrade_prime(123456)"
   ]
  },
  {
   "cell_type": "markdown",
   "metadata": {},
   "source": [
    "# Zad 3"
   ]
  },
  {
   "cell_type": "code",
   "execution_count": 3,
   "metadata": {
    "scrolled": true
   },
   "outputs": [
    {
     "data": {
      "text/plain": [
       "[2,\n",
       " 3,\n",
       " 4,\n",
       " 6,\n",
       " 8,\n",
       " 12,\n",
       " 16,\n",
       " 24,\n",
       " 32,\n",
       " 48,\n",
       " 64,\n",
       " 96,\n",
       " 192,\n",
       " 643,\n",
       " 1286,\n",
       " 1929,\n",
       " 2572,\n",
       " 3858,\n",
       " 5144,\n",
       " 7716,\n",
       " 10288,\n",
       " 15432,\n",
       " 20576,\n",
       " 30864,\n",
       " 41152,\n",
       " 61728]"
      ]
     },
     "execution_count": 3,
     "metadata": {},
     "output_type": "execute_result"
    }
   ],
   "source": [
    "def degrade(number):\n",
    "    l = list()\n",
    "    for i in range(2, math.floor(number / 2) + 1):\n",
    "        if number % i == 0:\n",
    "            l.append(i)\n",
    "    return l\n",
    "\n",
    "degrade(123456)"
   ]
  },
  {
   "cell_type": "markdown",
   "metadata": {},
   "source": [
    "# Zad 4"
   ]
  },
  {
   "cell_type": "code",
   "execution_count": 4,
   "metadata": {
    "scrolled": true
   },
   "outputs": [
    {
     "data": {
      "text/plain": [
       "18696"
      ]
     },
     "execution_count": 4,
     "metadata": {},
     "output_type": "execute_result"
    }
   ],
   "source": [
    "def multiple(number1, number2):\n",
    "    prime1 = degrade_prime(number1)\n",
    "    prime2 = degrade_prime(number2)\n",
    "    nww = 1\n",
    "    for i in prime1.keys():\n",
    "        if i in prime2.keys():\n",
    "            if prime2[i] > prime1[i]:\n",
    "                nww *= i**prime2[i]\n",
    "            else:\n",
    "                nww *= i**prime1[i]\n",
    "            prime2[i] = 0\n",
    "        else:\n",
    "            nww *= i**prime1[i]\n",
    "    for j in prime2.keys():\n",
    "        if prime2[j] > 0:\n",
    "            nww *= j**prime2[j]\n",
    "    return nww\n",
    "    \n",
    "    \n",
    "multiple(123, 456)"
   ]
  },
  {
   "cell_type": "markdown",
   "metadata": {},
   "source": [
    "# Zad 5"
   ]
  },
  {
   "cell_type": "code",
   "execution_count": 5,
   "metadata": {},
   "outputs": [
    {
     "data": {
      "text/plain": [
       "[1, 1, 1, 1, 0, 0, 0, 1, 0, 0, 1, 0, 0, 0, 0, 0, 0]"
      ]
     },
     "execution_count": 5,
     "metadata": {},
     "output_type": "execute_result"
    }
   ],
   "source": [
    "def binary(number):\n",
    "    binary_number = list()\n",
    "    while number != 0:\n",
    "        if number % 2 == 0:\n",
    "            binary_number.append(0)\n",
    "        else:\n",
    "            binary_number.append(1)\n",
    "        number = math.floor(number / 2)\n",
    "    return binary_number[::-1]\n",
    "binary(123456)"
   ]
  },
  {
   "cell_type": "markdown",
   "metadata": {
    "collapsed": true
   },
   "source": [
    "# Zad 6"
   ]
  },
  {
   "cell_type": "code",
   "execution_count": 6,
   "metadata": {},
   "outputs": [
    {
     "data": {
      "text/plain": [
       "120"
      ]
     },
     "execution_count": 6,
     "metadata": {},
     "output_type": "execute_result"
    }
   ],
   "source": [
    "def factorial(n):\n",
    "    f = 1\n",
    "    while n != 1:\n",
    "        f *= n\n",
    "        n -= 1\n",
    "    return f\n",
    "\n",
    "factorial(5)"
   ]
  },
  {
   "cell_type": "markdown",
   "metadata": {},
   "source": [
    "# Zad 7"
   ]
  },
  {
   "cell_type": "code",
   "execution_count": 7,
   "metadata": {},
   "outputs": [
    {
     "data": {
      "text/plain": [
       "[17, 52, 26, 13, 40, 20, 10, 5, 16, 8, 4, 2, 1]"
      ]
     },
     "execution_count": 7,
     "metadata": {},
     "output_type": "execute_result"
    }
   ],
   "source": [
    "def Collatz(n):\n",
    "    collatz_list = list()\n",
    "    while n != 1:\n",
    "        collatz_list.append(int(n))\n",
    "        if n % 2 == 0:\n",
    "            n /= 2\n",
    "        else:\n",
    "            n = 3*n + 1\n",
    "    collatz_list.append(1)\n",
    "    \n",
    "    return collatz_list\n",
    "\n",
    "Collatz(17)"
   ]
  },
  {
   "cell_type": "markdown",
   "metadata": {},
   "source": [
    "# Zad 8"
   ]
  },
  {
   "cell_type": "code",
   "execution_count": 8,
   "metadata": {},
   "outputs": [
    {
     "data": {
      "text/plain": [
       "21"
      ]
     },
     "execution_count": 8,
     "metadata": {},
     "output_type": "execute_result"
    }
   ],
   "source": [
    "def Fibonacci(n):\n",
    "    if n == 1:\n",
    "        return 0\n",
    "    elif n == 2:\n",
    "        return 1\n",
    "    else:\n",
    "        return Fibonacci(n-1) + Fibonacci(n-2)\n",
    "\n",
    "Fibonacci(9)    "
   ]
  },
  {
   "cell_type": "markdown",
   "metadata": {},
   "source": [
    "# Zad 9"
   ]
  },
  {
   "cell_type": "code",
   "execution_count": 9,
   "metadata": {},
   "outputs": [
    {
     "data": {
      "text/plain": [
       "5.0"
      ]
     },
     "execution_count": 9,
     "metadata": {},
     "output_type": "execute_result"
    }
   ],
   "source": [
    "def avg(*args):\n",
    "    average = 0\n",
    "    for i in args:\n",
    "        average += i\n",
    "    return average / len(args)\n",
    "\n",
    "avg(4, 6, 4, 6, 1, 1, 9, 9)"
   ]
  },
  {
   "cell_type": "markdown",
   "metadata": {},
   "source": [
    "# Zad 10"
   ]
  },
  {
   "cell_type": "code",
   "execution_count": 10,
   "metadata": {},
   "outputs": [
    {
     "data": {
      "text/plain": [
       "3.156"
      ]
     },
     "execution_count": 10,
     "metadata": {},
     "output_type": "execute_result"
    }
   ],
   "source": [
    "import random\n",
    "def Pi_Monte_Carlo(n):\n",
    "    inside = 0\n",
    "    for i in range(n):\n",
    "        x = random.random()**2\n",
    "        y = random.random()**2\n",
    "        if math.sqrt(x + y) < 1:\n",
    "            inside += 1\n",
    "    return (inside / n) * 4\n",
    "\n",
    "Pi_Monte_Carlo(10000)"
   ]
  },
  {
   "cell_type": "markdown",
   "metadata": {},
   "source": [
    "# Zad 11"
   ]
  },
  {
   "cell_type": "code",
   "execution_count": 11,
   "metadata": {},
   "outputs": [
    {
     "data": {
      "text/plain": [
       "['raz', 'dwa', 'trzy', 'cztery', 'pięć', 'zero']"
      ]
     },
     "execution_count": 11,
     "metadata": {},
     "output_type": "execute_result"
    }
   ],
   "source": [
    "def split_and_trim(strng):\n",
    "    return strng.lower().split(\" \")\n",
    "\n",
    "split_and_trim(\"Raz dwa trzy cztery pięć zero\")"
   ]
  },
  {
   "cell_type": "markdown",
   "metadata": {},
   "source": [
    "# Zad 12"
   ]
  },
  {
   "cell_type": "code",
   "execution_count": 12,
   "metadata": {},
   "outputs": [
    {
     "data": {
      "text/plain": [
       "{'P': 1, 'y': 1, 't': 1, 'h': 1, 'o': 1, 'n': 1}"
      ]
     },
     "execution_count": 12,
     "metadata": {},
     "output_type": "execute_result"
    }
   ],
   "source": [
    "def countChar(strng):\n",
    "    chars = dict()\n",
    "    for i in strng:\n",
    "        if i not in chars:\n",
    "            chars[i] = 0\n",
    "        chars[i] += 1\n",
    "    return chars\n",
    "countChar(\"Python\")"
   ]
  },
  {
   "cell_type": "markdown",
   "metadata": {},
   "source": [
    "# Zad 13"
   ]
  },
  {
   "cell_type": "code",
   "execution_count": 13,
   "metadata": {},
   "outputs": [
    {
     "data": {
      "text/plain": [
       "'dzieńDobryProszęPana'"
      ]
     },
     "execution_count": 13,
     "metadata": {},
     "output_type": "execute_result"
    }
   ],
   "source": [
    "def camelCase(strng):\n",
    "    camel_strng = ''.join(i.capitalize() for i in strng.split(\" \"))\n",
    "    return camel_strng[0].lower() + camel_strng[1:]\n",
    "\n",
    "camelCase(\"Dzień dobry proszę Pana\")"
   ]
  },
  {
   "cell_type": "markdown",
   "metadata": {},
   "source": [
    "# Zad 14"
   ]
  },
  {
   "cell_type": "code",
   "execution_count": 14,
   "metadata": {},
   "outputs": [
    {
     "data": {
      "text/plain": [
       "(12.086308764964375, 0.4136912350356239)"
      ]
     },
     "execution_count": 14,
     "metadata": {},
     "output_type": "execute_result"
    }
   ],
   "source": [
    "import math\n",
    "def square_triangle(a, b, c):\n",
    "    if a == 0:\n",
    "        return \"a != 0!\"\n",
    "    delta = b**2 - 4 * a * c\n",
    "    if delta < 0:\n",
    "        return \"delta < 0\"\n",
    "    elif delta == 0:\n",
    "        return -b / (2 * a)\n",
    "    else:\n",
    "        return (-b - math.sqrt(delta)) / (2 * a), (-b + math.sqrt(delta)) / (2 * a)\n",
    "\n",
    "square_triangle(-2, 25, -10)"
   ]
  }
 ],
 "metadata": {
  "kernelspec": {
   "display_name": "Python 3",
   "language": "python",
   "name": "python3"
  },
  "language_info": {
   "codemirror_mode": {
    "name": "ipython",
    "version": 3
   },
   "file_extension": ".py",
   "mimetype": "text/x-python",
   "name": "python",
   "nbconvert_exporter": "python",
   "pygments_lexer": "ipython3",
   "version": "3.6.7"
  }
 },
 "nbformat": 4,
 "nbformat_minor": 1
}
